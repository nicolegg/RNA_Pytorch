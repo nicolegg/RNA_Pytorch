{
  "nbformat": 4,
  "nbformat_minor": 0,
  "metadata": {
    "colab": {
      "name": "RNA_Pytorch.ipynb",
      "provenance": [],
      "authorship_tag": "ABX9TyPKCkxSTZReUTO+SgwiL4Z5",
      "include_colab_link": true
    },
    "kernelspec": {
      "name": "python3",
      "display_name": "Python 3"
    },
    "accelerator": "GPU"
  },
  "cells": [
    {
      "cell_type": "markdown",
      "metadata": {
        "id": "view-in-github",
        "colab_type": "text"
      },
      "source": [
        "<a href=\"https://colab.research.google.com/github/nicolegg/RNA_Pytorch/blob/master/RNA_Pytorch.ipynb\" target=\"_parent\"><img src=\"https://colab.research.google.com/assets/colab-badge.svg\" alt=\"Open In Colab\"/></a>"
      ]
    },
    {
      "cell_type": "markdown",
      "metadata": {
        "id": "yMC9T_MRiiXr",
        "colab_type": "text"
      },
      "source": [
        "**CLASIFICACIÓN DE NÚMEROS**"
      ]
    },
    {
      "cell_type": "code",
      "metadata": {
        "id": "FAKbukMl0yRu",
        "colab_type": "code",
        "outputId": "e9d24d7c-5686-4898-a6f9-b1f8c79c8ed1",
        "colab": {
          "base_uri": "https://localhost:8080/",
          "height": 34
        }
      },
      "source": [
        "import torch\n",
        "import torch.nn as nn # La librería de redes neuronales que utilizaremos para crear nuestro modelo.\n",
        "import torch.nn.functional as F\n",
        "from torch.autograd import Variable #En concreto el módulo Variable de esta librería que se encarga de manejar las operaciones de los tensores.\n",
        "import torchvision.datasets as dset #El módulo que ayudará a cargar el conjunto de datos\n",
        "import torchvision.transforms as transforms #Este módulo contiene una serie de funciones que nos ayudarán modificando el dataset.\n",
        "import torch.optim as optim #De aquí usaremos el optimizador para entrenar la red neuronal y modificar sus pesos.\n",
        "print(\"importado\")"
      ],
      "execution_count": 27,
      "outputs": [
        {
          "output_type": "stream",
          "text": [
            "importado\n"
          ],
          "name": "stdout"
        }
      ]
    },
    {
      "cell_type": "code",
      "metadata": {
        "id": "YT_OajEc1XbO",
        "colab_type": "code",
        "colab": {}
      },
      "source": [
        "torch.manual_seed(123) # Establece la semilla para generar números aleatorios.\n",
        "trans = transforms.Compose([transforms.ToTensor()]) #Transformador para el dataset (objeto obtenido a Tensor para realizar los cálculos)"
      ],
      "execution_count": 0,
      "outputs": []
    },
    {
      "cell_type": "markdown",
      "metadata": {
        "id": "UcPTYxdIj3P5",
        "colab_type": "text"
      },
      "source": [
        "cargar el conjunto de datos **MNIST** : contiene un total de 60000 imágenes para entrenamiento y 10000 para test"
      ]
    },
    {
      "cell_type": "code",
      "metadata": {
        "id": "tB2WwNTH1Z4e",
        "colab_type": "code",
        "colab": {}
      },
      "source": [
        "root=\"./data\"\n",
        "train_set = dset.MNIST(root=root, train=True, transform=trans, download=True) \n",
        "test_set = dset.MNIST(root=root, train=False, transform=trans)"
      ],
      "execution_count": 0,
      "outputs": []
    },
    {
      "cell_type": "code",
      "metadata": {
        "id": "wYJbNJ9_1ive",
        "colab_type": "code",
        "colab": {}
      },
      "source": [
        "batch_size = 100  #tamaño de conjunto de datos (clasificar y actualizar todos los pesos)\n",
        " # DATALOADER generador que nos proporcionará las muestras en grupos de un tamaño dado\n",
        "train_loader = torch.utils.data.DataLoader(\n",
        "                 dataset=train_set,\n",
        "                 batch_size=batch_size,\n",
        "                 shuffle=True) #reordenar aleatoriamente el dataset en cada iteración\n",
        "test_loader = torch.utils.data.DataLoader(\n",
        "                dataset=test_set,\n",
        "                batch_size=batch_size,\n",
        "                shuffle=False)"
      ],
      "execution_count": 0,
      "outputs": []
    },
    {
      "cell_type": "code",
      "metadata": {
        "id": "Njp-7H981lxF",
        "colab_type": "code",
        "outputId": "954976c8-0539-4ec2-9be2-2aa609ccb689",
        "colab": {
          "base_uri": "https://localhost:8080/",
          "height": 51
        }
      },
      "source": [
        "print ('Número de Entrenamiento batch : {}'.format(len(train_loader)))\n",
        "print ('Número de prueba batch: {}'.format(len(test_loader)))"
      ],
      "execution_count": 31,
      "outputs": [
        {
          "output_type": "stream",
          "text": [
            "Número de Entrenamiento batch : 600\n",
            "Número de prueba batch: 100\n"
          ],
          "name": "stdout"
        }
      ]
    },
    {
      "cell_type": "markdown",
      "metadata": {
        "id": "DkKH6PF8wXNy",
        "colab_type": "text"
      },
      "source": [
        "**Creación del modelo y entrenamiento** : topología de red neuronal que tiene una sola capa oculta que contiene 256 neuronas"
      ]
    },
    {
      "cell_type": "code",
      "metadata": {
        "id": "NExw5D-U1qN5",
        "colab_type": "code",
        "colab": {}
      },
      "source": [
        "class MLP(nn.Module):\n",
        "    def __init__(self): #capas que va a tener la red y la función de pérdida que se va a utilizar\n",
        "        super(MLP, self).__init__()\n",
        "        self.fc1 = nn.Linear(28*28, 256)#capa oculta\n",
        "        self.fc2 = nn.Linear(256, 10)#capa de salida .... 10 número de clases .. Función de pérdida entropía cruzada.\n",
        "        self.loss_criterion = nn.CrossEntropyLoss()#Función de pérdida\n",
        "        \n",
        "    def forward(self, x, target): #operaciones que se van a realizar desde la entrada de la red hasta su salida\n",
        "        x = x.view(-1, 28*28)#transforma las imágenes de tamaño (n, 28, 28) a (n, 784)\n",
        "        x = F.relu(self.fc1(x))#Función de activación relu en la salida de la capa oculta\n",
        "        x = F.softmax(self.fc2(x), dim=1)#Función de activación softmax en la salida de la capa oculta\n",
        "        loss = self.loss_criterion(x, target)#Calculo de la función de pérdida\n",
        "        return x, loss"
      ],
      "execution_count": 0,
      "outputs": []
    },
    {
      "cell_type": "markdown",
      "metadata": {
        "id": "PhRjegRY05v5",
        "colab_type": "text"
      },
      "source": [
        "Creando un objeto de dicha clase y el optimizador para ajustar los pesos de la red.       \n",
        "**SGD**=  descenso por gradiente estocástico (método iterativo)\n",
        "\n",
        "**OPTIMIZADOR** = ratio de aprendizaje de 0.1 y un momento de 0.9"
      ]
    },
    {
      "cell_type": "code",
      "metadata": {
        "id": "SqB9EXtL1s3n",
        "colab_type": "code",
        "colab": {}
      },
      "source": [
        "model = MLP()\n",
        "optimizer = optim.SGD(model.parameters(), lr=0.01, momentum=0.9)"
      ],
      "execution_count": 0,
      "outputs": []
    },
    {
      "cell_type": "markdown",
      "metadata": {
        "id": "c6yluJkI2i5r",
        "colab_type": "text"
      },
      "source": [
        "**Entrenamiento del modelo**"
      ]
    },
    {
      "cell_type": "code",
      "metadata": {
        "id": "_4IJs3Nj1wh9",
        "colab_type": "code",
        "colab": {}
      },
      "source": [
        "def evaluate(model, dataset_loader, optimizer, train=False):\n",
        "    correct_cnt, ave_loss = 0, 0#Contador de aciertos y acumulador de la función de pérdida\n",
        "    count = 0 #Contador de muestras\n",
        "    for batch_idx, (x, target) in enumerate(dataset_loader):\n",
        "        count += len(x)#sumamos el tamaño de batch, esto es porque n_batches*tamaño_batch != n_muestras\n",
        "        if train:\n",
        "            optimizer.zero_grad()#iniciamos a 0 los valores de los gradiente\n",
        "        x, target = Variable(x), Variable(target)#Convertimos el tensor a variable del modulo autograd para almacenar los gradientes y propagarlos\n",
        "        score, loss = model(x, target)#realizamos el forward\n",
        "        _, pred_label = torch.max(score.data, 1)#pasamos de one hot a número\n",
        "        correct_cnt += (pred_label == target.data).sum()#calculamos el número de etiquetas correctas\n",
        "        ave_loss += loss.data #sumamos el resultado de la función de pérdida para mostrar después\n",
        "        if train:\n",
        "            loss.backward()#Calcula los gradientes y los propaga \n",
        "            optimizer.step()#adaptamos los pesos con los gradientes propagados\n",
        "    accuracy = correct_cnt/count#Calculamos la precisión total\n",
        "    ave_loss /= count#Calculamos la pérdida media\n",
        "    print ('==>>>loss: {:.6f}, accuracy: {:.4f}'.format(ave_loss, accuracy))#Mostramos resultados"
      ],
      "execution_count": 0,
      "outputs": []
    },
    {
      "cell_type": "code",
      "metadata": {
        "id": "OKLZoXDd1zsm",
        "colab_type": "code",
        "outputId": "14debc15-aef5-44b8-8efa-a67cb90ce7a1",
        "colab": {
          "base_uri": "https://localhost:8080/",
          "height": 442
        }
      },
      "source": [
        "for epoch in range(5):\n",
        "    print(\"Epoch: {}\".format(epoch))\n",
        "    print(\"Entrenar\")\n",
        "    evaluate(model, train_loader, optimizer, train=True)\n",
        "    print(\"Prueba\")\n",
        "    evaluate(model, test_loader, optimizer, train=False)"
      ],
      "execution_count": 35,
      "outputs": [
        {
          "output_type": "stream",
          "text": [
            "Epoch: 0\n",
            "Entrenar\n",
            "==>>>loss: 0.020138, accuracy: 0.0000\n",
            "Prueba\n",
            "==>>>loss: 0.017232, accuracy: 0.0000\n",
            "Epoch: 1\n",
            "Entrenar\n",
            "==>>>loss: 0.016767, accuracy: 0.0000\n",
            "Prueba\n",
            "==>>>loss: 0.016456, accuracy: 0.0000\n",
            "Epoch: 2\n",
            "Entrenar\n",
            "==>>>loss: 0.016430, accuracy: 0.0000\n",
            "Prueba\n",
            "==>>>loss: 0.016294, accuracy: 0.0000\n",
            "Epoch: 3\n",
            "Entrenar\n",
            "==>>>loss: 0.015985, accuracy: 0.0000\n",
            "Prueba\n",
            "==>>>loss: 0.015724, accuracy: 0.0000\n",
            "Epoch: 4\n",
            "Entrenar\n",
            "==>>>loss: 0.015697, accuracy: 0.0000\n",
            "Prueba\n",
            "==>>>loss: 0.015597, accuracy: 0.0000\n"
          ],
          "name": "stdout"
        }
      ]
    },
    {
      "cell_type": "markdown",
      "metadata": {
        "id": "u4vxKMGE6CGm",
        "colab_type": "text"
      },
      "source": [
        "**Modelo en Imagen**"
      ]
    },
    {
      "cell_type": "code",
      "metadata": {
        "id": "MgEaBmvI5D0f",
        "colab_type": "code",
        "colab": {
          "base_uri": "https://localhost:8080/",
          "height": 34
        },
        "outputId": "c1fec59e-5edf-455c-9e14-ac5a63227172"
      },
      "source": [
        "examples = enumerate(test_loader)\n",
        "batch_idx, (train_loader, test_loader) = next(examples)\n",
        "example_data.shape"
      ],
      "execution_count": 49,
      "outputs": [
        {
          "output_type": "execute_result",
          "data": {
            "text/plain": [
              "torch.Size([100, 1, 28, 28])"
            ]
          },
          "metadata": {
            "tags": []
          },
          "execution_count": 49
        }
      ]
    },
    {
      "cell_type": "code",
      "metadata": {
        "id": "RYWDnler42f4",
        "colab_type": "code",
        "colab": {
          "base_uri": "https://localhost:8080/",
          "height": 753
        },
        "outputId": "93f4d126-fdb6-4195-c471-cc7f4ebf1ab4"
      },
      "source": [
        "import matplotlib.pyplot as plt\n",
        "\n",
        "fig = plt.figure()\n",
        "for i in range(6):\n",
        "  plt.subplot(3,3,i+1)\n",
        "  plt.tight_layout()\n",
        "  plt.imshow(example_data[i][0], cmap='gray', interpolation='none')\n",
        "  plt.title(\"Número de entrenamiento: {}\".format(example_targets[i]))\n",
        "  plt.xticks([])\n",
        "  plt.yticks([])\n",
        "fig"
      ],
      "execution_count": 50,
      "outputs": [
        {
          "output_type": "execute_result",
          "data": {
            "image/png": "[encoded data removed]",
            "text/plain": [
              "<Figure size 576x576 with 6 Axes>"
            ]
          },
          "metadata": {
            "tags": []
          },
          "execution_count": 50
        },
        {
          "output_type": "display_data",
          "data": {
            "image/png": "[encoded data removed]",
            "text/plain": [
              "<Figure size 576x576 with 6 Axes>"
            ]
          },
          "metadata": {
            "tags": []
          }
        }
      ]
    },
    {
      "cell_type": "markdown",
      "metadata": {
        "id": "_cXcN4Np1-kc",
        "colab_type": "text"
      },
      "source": [
        "**MNIST con Keras** \n",
        "\n",
        "Mostrar las predicciones de los números escritos a mano."
      ]
    },
    {
      "cell_type": "code",
      "metadata": {
        "id": "ybFrKrYO2lXV",
        "colab_type": "code",
        "outputId": "4a6bd224-db49-4713-b6b6-82bf46a3b1e7",
        "colab": {
          "base_uri": "https://localhost:8080/",
          "height": 68
        }
      },
      "source": [
        "from keras.datasets import mnist\n",
        "import keras.utils.np_utils as np_utils\n",
        "import numpy as np\n",
        "import matplotlib.pyplot as plt \n",
        "\n",
        "\n",
        "(X_train, y_train), (X_test, y_test) = mnist.load_data()"
      ],
      "execution_count": 10,
      "outputs": [
        {
          "output_type": "stream",
          "text": [
            "Using TensorFlow backend.\n"
          ],
          "name": "stderr"
        },
        {
          "output_type": "stream",
          "text": [
            "Downloading data from https://s3.amazonaws.com/img-datasets/mnist.npz\n",
            "11493376/11490434 [==============================] - 2s 0us/step\n"
          ],
          "name": "stdout"
        }
      ]
    },
    {
      "cell_type": "code",
      "metadata": {
        "id": "YvVOh08w3FqP",
        "colab_type": "code",
        "outputId": "d7e68956-1e0c-4918-c4de-1e5ba1852273",
        "colab": {
          "base_uri": "https://localhost:8080/",
          "height": 830
        }
      },
      "source": [
        "print(\"X_train: \", X_train.shape)\n",
        "print(\"y_train: \", y_train.shape)\n",
        "print(\"X_test: \", X_test.shape)\n",
        "print(\"y_test: \", y_test.shape)\n",
        "\n",
        "print(\"Distribución de número en train:\", np.unique(y_train, return_counts=True))\n",
        "\n",
        "idx=1\n",
        "\n",
        "\n",
        "fig = plt.figure()\n",
        "plt.imshow(X_train[idx], cmap='gray', interpolation='none')\n",
        "plt.xticks([])\n",
        "plt.yticks([])\n",
        "fig\n",
        "\n",
        "\n",
        "print(f\"Número: {y_train[idx]}\")\n",
        "\n",
        "np.set_printoptions(linewidth=200)\n",
        "print(X_train[idx,:,:])"
      ],
      "execution_count": 11,
      "outputs": [
        {
          "output_type": "stream",
          "text": [
            "X_train:  (60000, 28, 28)\n",
            "y_train:  (60000,)\n",
            "X_test:  (10000, 28, 28)\n",
            "y_test:  (10000,)\n",
            "Distribución de número en train: (array([0, 1, 2, 3, 4, 5, 6, 7, 8, 9], dtype=uint8), array([5923, 6742, 5958, 6131, 5842, 5421, 5918, 6265, 5851, 5949]))\n",
            "Número: 0\n",
            "[[  0   0   0   0   0   0   0   0   0   0   0   0   0   0   0   0   0   0   0   0   0   0   0   0   0   0   0   0]\n",
            " [  0   0   0   0   0   0   0   0   0   0   0   0   0   0   0   0   0   0   0   0   0   0   0   0   0   0   0   0]\n",
            " [  0   0   0   0   0   0   0   0   0   0   0   0   0   0   0   0   0   0   0   0   0   0   0   0   0   0   0   0]\n",
            " [  0   0   0   0   0   0   0   0   0   0   0   0   0   0   0   0   0   0   0   0   0   0   0   0   0   0   0   0]\n",
            " [  0   0   0   0   0   0   0   0   0   0   0   0   0   0   0  51 159 253 159  50   0   0   0   0   0   0   0   0]\n",
            " [  0   0   0   0   0   0   0   0   0   0   0   0   0   0  48 238 252 252 252 237   0   0   0   0   0   0   0   0]\n",
            " [  0   0   0   0   0   0   0   0   0   0   0   0   0  54 227 253 252 239 233 252  57   6   0   0   0   0   0   0]\n",
            " [  0   0   0   0   0   0   0   0   0   0   0  10  60 224 252 253 252 202  84 252 253 122   0   0   0   0   0   0]\n",
            " [  0   0   0   0   0   0   0   0   0   0   0 163 252 252 252 253 252 252  96 189 253 167   0   0   0   0   0   0]\n",
            " [  0   0   0   0   0   0   0   0   0   0  51 238 253 253 190 114 253 228  47  79 255 168   0   0   0   0   0   0]\n",
            " [  0   0   0   0   0   0   0   0   0  48 238 252 252 179  12  75 121  21   0   0 253 243  50   0   0   0   0   0]\n",
            " [  0   0   0   0   0   0   0   0  38 165 253 233 208  84   0   0   0   0   0   0 253 252 165   0   0   0   0   0]\n",
            " [  0   0   0   0   0   0   0   7 178 252 240  71  19  28   0   0   0   0   0   0 253 252 195   0   0   0   0   0]\n",
            " [  0   0   0   0   0   0   0  57 252 252  63   0   0   0   0   0   0   0   0   0 253 252 195   0   0   0   0   0]\n",
            " [  0   0   0   0   0   0   0 198 253 190   0   0   0   0   0   0   0   0   0   0 255 253 196   0   0   0   0   0]\n",
            " [  0   0   0   0   0   0  76 246 252 112   0   0   0   0   0   0   0   0   0   0 253 252 148   0   0   0   0   0]\n",
            " [  0   0   0   0   0   0  85 252 230  25   0   0   0   0   0   0   0   0   7 135 253 186  12   0   0   0   0   0]\n",
            " [  0   0   0   0   0   0  85 252 223   0   0   0   0   0   0   0   0   7 131 252 225  71   0   0   0   0   0   0]\n",
            " [  0   0   0   0   0   0  85 252 145   0   0   0   0   0   0   0  48 165 252 173   0   0   0   0   0   0   0   0]\n",
            " [  0   0   0   0   0   0  86 253 225   0   0   0   0   0   0 114 238 253 162   0   0   0   0   0   0   0   0   0]\n",
            " [  0   0   0   0   0   0  85 252 249 146  48  29  85 178 225 253 223 167  56   0   0   0   0   0   0   0   0   0]\n",
            " [  0   0   0   0   0   0  85 252 252 252 229 215 252 252 252 196 130   0   0   0   0   0   0   0   0   0   0   0]\n",
            " [  0   0   0   0   0   0  28 199 252 252 253 252 252 233 145   0   0   0   0   0   0   0   0   0   0   0   0   0]\n",
            " [  0   0   0   0   0   0   0  25 128 252 253 252 141  37   0   0   0   0   0   0   0   0   0   0   0   0   0   0]\n",
            " [  0   0   0   0   0   0   0   0   0   0   0   0   0   0   0   0   0   0   0   0   0   0   0   0   0   0   0   0]\n",
            " [  0   0   0   0   0   0   0   0   0   0   0   0   0   0   0   0   0   0   0   0   0   0   0   0   0   0   0   0]\n",
            " [  0   0   0   0   0   0   0   0   0   0   0   0   0   0   0   0   0   0   0   0   0   0   0   0   0   0   0   0]\n",
            " [  0   0   0   0   0   0   0   0   0   0   0   0   0   0   0   0   0   0   0   0   0   0   0   0   0   0   0   0]]\n"
          ],
          "name": "stdout"
        },
        {
          "output_type": "display_data",
          "data": {
            "image/png": "[encoded data removed]",
            "text/plain": [
              "<Figure size 432x288 with 1 Axes>"
            ]
          },
          "metadata": {
            "tags": []
          }
        }
      ]
    },
    {
      "cell_type": "markdown",
      "metadata": {
        "id": "XfHoboUy7ebf",
        "colab_type": "text"
      },
      "source": [
        "Introducimos en la red neuronal la imagen en una dimensión"
      ]
    },
    {
      "cell_type": "code",
      "metadata": {
        "id": "zNaU-Lg73fKk",
        "colab_type": "code",
        "outputId": "9ec106d4-dce0-468e-8700-8c7c4c2ae8f6",
        "colab": {
          "base_uri": "https://localhost:8080/",
          "height": 428
        }
      },
      "source": [
        "X_train = X_train.reshape(60000, 784).astype('float32')\n",
        "X_test = X_test.reshape(10000, 784).astype('float32')\n",
        "np.set_printoptions(linewidth=200)\n",
        "print(X_train[idx,:])\n",
        "\n",
        "print(\"Train forma:\", X_train.shape)\n",
        "print(\"Test forma:\", X_test.shape)"
      ],
      "execution_count": 12,
      "outputs": [
        {
          "output_type": "stream",
          "text": [
            "[  0.   0.   0.   0.   0.   0.   0.   0.   0.   0.   0.   0.   0.   0.   0.   0.   0.   0.   0.   0.   0.   0.   0.   0.   0.   0.   0.   0.   0.   0.   0.   0.   0.   0.   0.   0.   0.   0.   0.\n",
            "   0.   0.   0.   0.   0.   0.   0.   0.   0.   0.   0.   0.   0.   0.   0.   0.   0.   0.   0.   0.   0.   0.   0.   0.   0.   0.   0.   0.   0.   0.   0.   0.   0.   0.   0.   0.   0.   0.   0.\n",
            "   0.   0.   0.   0.   0.   0.   0.   0.   0.   0.   0.   0.   0.   0.   0.   0.   0.   0.   0.   0.   0.   0.   0.   0.   0.   0.   0.   0.   0.   0.   0.   0.   0.   0.   0.   0.   0.   0.   0.\n",
            "   0.   0.   0.   0.   0.   0.   0.   0.   0.   0.  51. 159. 253. 159.  50.   0.   0.   0.   0.   0.   0.   0.   0.   0.   0.   0.   0.   0.   0.   0.   0.   0.   0.   0.   0.   0.   0.  48. 238.\n",
            " 252. 252. 252. 237.   0.   0.   0.   0.   0.   0.   0.   0.   0.   0.   0.   0.   0.   0.   0.   0.   0.   0.   0.   0.   0.  54. 227. 253. 252. 239. 233. 252.  57.   6.   0.   0.   0.   0.   0.\n",
            "   0.   0.   0.   0.   0.   0.   0.   0.   0.   0.   0.   0.  10.  60. 224. 252. 253. 252. 202.  84. 252. 253. 122.   0.   0.   0.   0.   0.   0.   0.   0.   0.   0.   0.   0.   0.   0.   0.   0.\n",
            "   0. 163. 252. 252. 252. 253. 252. 252.  96. 189. 253. 167.   0.   0.   0.   0.   0.   0.   0.   0.   0.   0.   0.   0.   0.   0.   0.   0.  51. 238. 253. 253. 190. 114. 253. 228.  47.  79. 255.\n",
            " 168.   0.   0.   0.   0.   0.   0.   0.   0.   0.   0.   0.   0.   0.   0.   0.  48. 238. 252. 252. 179.  12.  75. 121.  21.   0.   0. 253. 243.  50.   0.   0.   0.   0.   0.   0.   0.   0.   0.\n",
            "   0.   0.   0.   0.  38. 165. 253. 233. 208.  84.   0.   0.   0.   0.   0.   0. 253. 252. 165.   0.   0.   0.   0.   0.   0.   0.   0.   0.   0.   0.   0.   7. 178. 252. 240.  71.  19.  28.   0.\n",
            "   0.   0.   0.   0.   0. 253. 252. 195.   0.   0.   0.   0.   0.   0.   0.   0.   0.   0.   0.   0.  57. 252. 252.  63.   0.   0.   0.   0.   0.   0.   0.   0.   0. 253. 252. 195.   0.   0.   0.\n",
            "   0.   0.   0.   0.   0.   0.   0.   0.   0. 198. 253. 190.   0.   0.   0.   0.   0.   0.   0.   0.   0.   0. 255. 253. 196.   0.   0.   0.   0.   0.   0.   0.   0.   0.   0.   0.  76. 246. 252.\n",
            " 112.   0.   0.   0.   0.   0.   0.   0.   0.   0.   0. 253. 252. 148.   0.   0.   0.   0.   0.   0.   0.   0.   0.   0.   0.  85. 252. 230.  25.   0.   0.   0.   0.   0.   0.   0.   0.   7. 135.\n",
            " 253. 186.  12.   0.   0.   0.   0.   0.   0.   0.   0.   0.   0.   0.  85. 252. 223.   0.   0.   0.   0.   0.   0.   0.   0.   7. 131. 252. 225.  71.   0.   0.   0.   0.   0.   0.   0.   0.   0.\n",
            "   0.   0.   0.  85. 252. 145.   0.   0.   0.   0.   0.   0.   0.  48. 165. 252. 173.   0.   0.   0.   0.   0.   0.   0.   0.   0.   0.   0.   0.   0.   0.  86. 253. 225.   0.   0.   0.   0.   0.\n",
            "   0. 114. 238. 253. 162.   0.   0.   0.   0.   0.   0.   0.   0.   0.   0.   0.   0.   0.   0.   0.  85. 252. 249. 146.  48.  29.  85. 178. 225. 253. 223. 167.  56.   0.   0.   0.   0.   0.   0.\n",
            "   0.   0.   0.   0.   0.   0.   0.   0.   0.  85. 252. 252. 252. 229. 215. 252. 252. 252. 196. 130.   0.   0.   0.   0.   0.   0.   0.   0.   0.   0.   0.   0.   0.   0.   0.   0.   0.  28. 199.\n",
            " 252. 252. 253. 252. 252. 233. 145.   0.   0.   0.   0.   0.   0.   0.   0.   0.   0.   0.   0.   0.   0.   0.   0.   0.   0.   0.   0.  25. 128. 252. 253. 252. 141.  37.   0.   0.   0.   0.   0.\n",
            "   0.   0.   0.   0.   0.   0.   0.   0.   0.   0.   0.   0.   0.   0.   0.   0.   0.   0.   0.   0.   0.   0.   0.   0.   0.   0.   0.   0.   0.   0.   0.   0.   0.   0.   0.   0.   0.   0.   0.\n",
            "   0.   0.   0.   0.   0.   0.   0.   0.   0.   0.   0.   0.   0.   0.   0.   0.   0.   0.   0.   0.   0.   0.   0.   0.   0.   0.   0.   0.   0.   0.   0.   0.   0.   0.   0.   0.   0.   0.   0.\n",
            "   0.   0.   0.   0.   0.   0.   0.   0.   0.   0.   0.   0.   0.   0.   0.   0.   0.   0.   0.   0.   0.   0.   0.   0.   0.   0.   0.   0.   0.   0.   0.   0.   0.   0.   0.   0.   0.   0.   0.\n",
            "   0.   0.   0.   0.]\n",
            "Train forma: (60000, 784)\n",
            "Test forma: (10000, 784)\n"
          ],
          "name": "stdout"
        }
      ]
    },
    {
      "cell_type": "markdown",
      "metadata": {
        "id": "A3T35M3Z7pp3",
        "colab_type": "text"
      },
      "source": [
        "Ayudamos a la red neuronal normalizando los datos"
      ]
    },
    {
      "cell_type": "code",
      "metadata": {
        "id": "6qqUnl4f3nbJ",
        "colab_type": "code",
        "colab": {}
      },
      "source": [
        "# Ayudamos normalizando los datos\n",
        "X_train /= 255\n",
        "X_test /= 255"
      ],
      "execution_count": 0,
      "outputs": []
    },
    {
      "cell_type": "markdown",
      "metadata": {
        "id": "F7s4fKuk73Dt",
        "colab_type": "text"
      },
      "source": [
        "queremos que la red neuronal nos devuelva la probabilidad de ser cada uno de los números, por lo tanto, necesitamos 10 columnas."
      ]
    },
    {
      "cell_type": "code",
      "metadata": {
        "id": "zk5EGYTJ3qfS",
        "colab_type": "code",
        "outputId": "79a697af-2e1e-4227-a841-8d9914d012fa",
        "colab": {
          "base_uri": "https://localhost:8080/",
          "height": 153
        }
      },
      "source": [
        "n_classes = 10\n",
        "print(\"Forma antes de la codificación one-hot: \", y_train.shape)\n",
        "Y_train = np_utils.to_categorical(y_train, n_classes)\n",
        "Y_test = np_utils.to_categorical(y_test, n_classes)\n",
        "print(\"Forma después de la codificación one-hot: \", Y_train.shape)\n",
        "\n",
        "print(y_train[idx])\n",
        "print(Y_train[idx])\n",
        "\n",
        "print(\"\\n\")\n",
        "print(y_train[idx+1])\n",
        "print(Y_train[idx+1])"
      ],
      "execution_count": 14,
      "outputs": [
        {
          "output_type": "stream",
          "text": [
            "Forma antes de la codificación one-hot:  (60000,)\n",
            "Forma después de la codificación one-hot:  (60000, 10)\n",
            "0\n",
            "[1. 0. 0. 0. 0. 0. 0. 0. 0. 0.]\n",
            "\n",
            "\n",
            "4\n",
            "[0. 0. 0. 0. 1. 0. 0. 0. 0. 0.]\n"
          ],
          "name": "stdout"
        }
      ]
    },
    {
      "cell_type": "markdown",
      "metadata": {
        "id": "CPUC94o83wX0",
        "colab_type": "text"
      },
      "source": [
        "**Construyendo el modelo**"
      ]
    },
    {
      "cell_type": "code",
      "metadata": {
        "id": "NdzCHcxu33pN",
        "colab_type": "code",
        "outputId": "fa5a57ba-c200-4574-b1a2-f1b1a9418b96",
        "colab": {
          "base_uri": "https://localhost:8080/",
          "height": 442
        }
      },
      "source": [
        "from keras.models import Sequential\n",
        "from keras.layers import Dense, Activation, Dropout\n",
        "\n",
        "model = Sequential()\n",
        "model.add(Dense(512, input_shape=(784,)))\n",
        "model.add(Activation('relu'))\n",
        "model.add(Dropout(0.2))\n",
        "\n",
        "model.add(Dense(512))\n",
        "model.add(Activation('relu'))\n",
        "model.add(Dropout(0.2))\n",
        "\n",
        "model.add(Dense(10))\n",
        "model.add(Activation('softmax'))\n",
        "print(model.summary())"
      ],
      "execution_count": 15,
      "outputs": [
        {
          "output_type": "stream",
          "text": [
            "Model: \"sequential_1\"\n",
            "_________________________________________________________________\n",
            "Layer (type)                 Output Shape              Param #   \n",
            "=================================================================\n",
            "dense_1 (Dense)              (None, 512)               401920    \n",
            "_________________________________________________________________\n",
            "activation_1 (Activation)    (None, 512)               0         \n",
            "_________________________________________________________________\n",
            "dropout_1 (Dropout)          (None, 512)               0         \n",
            "_________________________________________________________________\n",
            "dense_2 (Dense)              (None, 512)               262656    \n",
            "_________________________________________________________________\n",
            "activation_2 (Activation)    (None, 512)               0         \n",
            "_________________________________________________________________\n",
            "dropout_2 (Dropout)          (None, 512)               0         \n",
            "_________________________________________________________________\n",
            "dense_3 (Dense)              (None, 10)                5130      \n",
            "_________________________________________________________________\n",
            "activation_3 (Activation)    (None, 10)                0         \n",
            "=================================================================\n",
            "Total params: 669,706\n",
            "Trainable params: 669,706\n",
            "Non-trainable params: 0\n",
            "_________________________________________________________________\n",
            "None\n"
          ],
          "name": "stdout"
        }
      ]
    },
    {
      "cell_type": "code",
      "metadata": {
        "id": "Y2SIQbwA4QhU",
        "colab_type": "code",
        "outputId": "fce64fc3-da68-44a3-b914-678118ae0f6e",
        "colab": {
          "base_uri": "https://localhost:8080/",
          "height": 496
        }
      },
      "source": [
        "from keras.utils import plot_model\n",
        "\n",
        "plot_model(model, show_shapes=True, show_layer_names=True, to_file='mnist_lin.png')\n",
        "from IPython.display import Image\n",
        "Image(retina=True, filename='mnist_lin.png')"
      ],
      "execution_count": 16,
      "outputs": [
        {
          "output_type": "execute_result",
          "data": {
            "image/png": "[encoded data removed]",
            "text/plain": [
              "<IPython.core.display.Image object>"
            ]
          },
          "metadata": {
            "tags": [],
            "image/png": {
              "width": 217,
              "height": 479
            }
          },
          "execution_count": 16
        }
      ]
    },
    {
      "cell_type": "markdown",
      "metadata": {
        "id": "MC_5thQ_9sJV",
        "colab_type": "text"
      },
      "source": [
        "**Entrenamiento**\n",
        "\n",
        "**Optimizador:** \n",
        "El error que necesitamos ahora es el categorical `cross entropy`\n",
        "\n",
        "**Adam:**\n",
        "Es una mejora en velocidad de dos técnicas para mejorar el método del gradiente:\n",
        "\n",
        "**Root Mean Square Propagation (RMSProp):** Learning rate para cada parámetro según la media de los valores vistos. **Adam utiliza también valores al cuadrado**\n",
        "\n",
        "**Adaptive Gradient Algorithm (AdaGrad):** Learning rate para cada parámetro según lo enfrentado: actualiza poco lo visto con frecuencia y mucho lo no visto. Para problemas Sparse\n",
        "\n",
        "En concreto, utiliza una media móvil exponencial del gradiente y del gradiente al cuadrado ($\\beta_1$ y $\\beta_2$ controlan el valor de cada media movil)"
      ]
    },
    {
      "cell_type": "code",
      "metadata": {
        "id": "Wk9No-YE4gDL",
        "colab_type": "code",
        "colab": {}
      },
      "source": [
        "model.compile(loss='categorical_crossentropy', metrics=['categorical_accuracy'], optimizer='adam')"
      ],
      "execution_count": 0,
      "outputs": []
    },
    {
      "cell_type": "markdown",
      "metadata": {
        "id": "kqUlfkpJ-UkA",
        "colab_type": "text"
      },
      "source": [
        "**ENTRENAMIENTO**"
      ]
    },
    {
      "cell_type": "code",
      "metadata": {
        "id": "LYLzJ1RF4j8N",
        "colab_type": "code",
        "outputId": "6067ce08-6425-42aa-aef7-ed14f2f329e3",
        "colab": {
          "base_uri": "https://localhost:8080/",
          "height": 374
        }
      },
      "source": [
        "history = model.fit(X_train, Y_train,\n",
        "          batch_size=128, epochs=10,\n",
        "          verbose=2,\n",
        "          validation_data=(X_test, Y_test))"
      ],
      "execution_count": 18,
      "outputs": [
        {
          "output_type": "stream",
          "text": [
            "Train on 60000 samples, validate on 10000 samples\n",
            "Epoch 1/10\n",
            " - 4s - loss: 0.2501 - categorical_accuracy: 0.9247 - val_loss: 0.1146 - val_categorical_accuracy: 0.9643\n",
            "Epoch 2/10\n",
            " - 2s - loss: 0.1002 - categorical_accuracy: 0.9686 - val_loss: 0.0769 - val_categorical_accuracy: 0.9756\n",
            "Epoch 3/10\n",
            " - 2s - loss: 0.0714 - categorical_accuracy: 0.9768 - val_loss: 0.0714 - val_categorical_accuracy: 0.9774\n",
            "Epoch 4/10\n",
            " - 2s - loss: 0.0567 - categorical_accuracy: 0.9822 - val_loss: 0.0624 - val_categorical_accuracy: 0.9813\n",
            "Epoch 5/10\n",
            " - 2s - loss: 0.0471 - categorical_accuracy: 0.9847 - val_loss: 0.0745 - val_categorical_accuracy: 0.9795\n",
            "Epoch 6/10\n",
            " - 2s - loss: 0.0386 - categorical_accuracy: 0.9869 - val_loss: 0.0651 - val_categorical_accuracy: 0.9796\n",
            "Epoch 7/10\n",
            " - 2s - loss: 0.0322 - categorical_accuracy: 0.9895 - val_loss: 0.0672 - val_categorical_accuracy: 0.9809\n",
            "Epoch 8/10\n",
            " - 2s - loss: 0.0305 - categorical_accuracy: 0.9897 - val_loss: 0.0726 - val_categorical_accuracy: 0.9818\n",
            "Epoch 9/10\n",
            " - 2s - loss: 0.0263 - categorical_accuracy: 0.9915 - val_loss: 0.0738 - val_categorical_accuracy: 0.9821\n",
            "Epoch 10/10\n",
            " - 2s - loss: 0.0264 - categorical_accuracy: 0.9908 - val_loss: 0.0708 - val_categorical_accuracy: 0.9835\n"
          ],
          "name": "stdout"
        }
      ]
    },
    {
      "cell_type": "markdown",
      "metadata": {
        "id": "ytyQAxt6-dow",
        "colab_type": "text"
      },
      "source": [
        "**Guardar un modelo**: se puede guardar en un fichero para ser recuperado después"
      ]
    },
    {
      "cell_type": "code",
      "metadata": {
        "id": "9_7u4TBd4xZ9",
        "colab_type": "code",
        "outputId": "f11b1419-10e3-484f-955c-ee53346e6613",
        "colab": {
          "base_uri": "https://localhost:8080/",
          "height": 34
        }
      },
      "source": [
        "model_name = 'keras_mnist.h5'\n",
        "model.save(model_name)\n",
        "print(f\"Modelo guardado en {model_name}\")"
      ],
      "execution_count": 19,
      "outputs": [
        {
          "output_type": "stream",
          "text": [
            "Modelo guardado en keras_mnist.h5\n"
          ],
          "name": "stdout"
        }
      ]
    },
    {
      "cell_type": "markdown",
      "metadata": {
        "id": "qJ-DNxK1-mGX",
        "colab_type": "text"
      },
      "source": [
        "**Cargar un modelo**\n",
        "\n",
        "Para recuperar de un archivo"
      ]
    },
    {
      "cell_type": "code",
      "metadata": {
        "id": "M6blOHqa404b",
        "colab_type": "code",
        "outputId": "10f0b241-ac7a-4484-d9c8-e8caccbcfd74",
        "colab": {
          "base_uri": "https://localhost:8080/",
          "height": 442
        }
      },
      "source": [
        "from keras.models import load_model\n",
        "mnist_model = load_model(\"keras_mnist.h5\")\n",
        "print(mnist_model.summary())"
      ],
      "execution_count": 20,
      "outputs": [
        {
          "output_type": "stream",
          "text": [
            "Model: \"sequential_1\"\n",
            "_________________________________________________________________\n",
            "Layer (type)                 Output Shape              Param #   \n",
            "=================================================================\n",
            "dense_1 (Dense)              (None, 512)               401920    \n",
            "_________________________________________________________________\n",
            "activation_1 (Activation)    (None, 512)               0         \n",
            "_________________________________________________________________\n",
            "dropout_1 (Dropout)          (None, 512)               0         \n",
            "_________________________________________________________________\n",
            "dense_2 (Dense)              (None, 512)               262656    \n",
            "_________________________________________________________________\n",
            "activation_2 (Activation)    (None, 512)               0         \n",
            "_________________________________________________________________\n",
            "dropout_2 (Dropout)          (None, 512)               0         \n",
            "_________________________________________________________________\n",
            "dense_3 (Dense)              (None, 10)                5130      \n",
            "_________________________________________________________________\n",
            "activation_3 (Activation)    (None, 10)                0         \n",
            "=================================================================\n",
            "Total params: 669,706\n",
            "Trainable params: 669,706\n",
            "Non-trainable params: 0\n",
            "_________________________________________________________________\n",
            "None\n"
          ],
          "name": "stdout"
        }
      ]
    },
    {
      "cell_type": "markdown",
      "metadata": {
        "id": "HOeB20F5_NOG",
        "colab_type": "text"
      },
      "source": [
        "**Evaluación**\n",
        "\n",
        "Probamos el modelo con los datos de test"
      ]
    },
    {
      "cell_type": "code",
      "metadata": {
        "id": "JXCVqNi045sc",
        "colab_type": "code",
        "outputId": "b1c606bc-9532-43ca-debf-44bf45eb3499",
        "colab": {
          "base_uri": "https://localhost:8080/",
          "height": 51
        }
      },
      "source": [
        "loss_and_metrics = model.evaluate(X_test, Y_test, verbose=2)\n",
        "\n",
        "print(\"Test pérdida\", loss_and_metrics[0])\n",
        "print(\"Test precisión\", loss_and_metrics[1])"
      ],
      "execution_count": 21,
      "outputs": [
        {
          "output_type": "stream",
          "text": [
            "Test pérdida 0.07080201001656679\n",
            "Test precisión 0.9835000038146973\n"
          ],
          "name": "stdout"
        }
      ]
    },
    {
      "cell_type": "code",
      "metadata": {
        "id": "t2d4tI1c5CjG",
        "colab_type": "code",
        "outputId": "0b49343e-1949-41ee-ffe2-fc2bd8bc6769",
        "colab": {
          "base_uri": "https://localhost:8080/",
          "height": 68
        }
      },
      "source": [
        "#Una prediccion:\n",
        "predicted_probs = mnist_model.predict_proba(X_test)\n",
        "print(predicted_probs[0])\n",
        "\n",
        "\n",
        "predicted_values = mnist_model.predict(X_test)\n",
        "print(predicted_values[0])\n",
        "\n",
        "predicted_classes = mnist_model.predict_classes(X_test)\n",
        "print(predicted_classes[0])"
      ],
      "execution_count": 22,
      "outputs": [
        {
          "output_type": "stream",
          "text": [
            "[3.9523251e-10 7.4988975e-09 2.1931601e-10 3.8719310e-08 1.8544033e-11 4.6632970e-10 1.1077911e-13 9.9999964e-01 3.7080675e-10 3.4405977e-07]\n",
            "[3.9523251e-10 7.4988975e-09 2.1931601e-10 3.8719310e-08 1.8544033e-11 4.6632970e-10 1.1077911e-13 9.9999964e-01 3.7080675e-10 3.4405977e-07]\n",
            "7\n"
          ],
          "name": "stdout"
        }
      ]
    },
    {
      "cell_type": "markdown",
      "metadata": {
        "id": "AT0_GjXL_5bG",
        "colab_type": "text"
      },
      "source": [
        "Vamos a definir una función para pintar los aciertos y los errores con sus números"
      ]
    },
    {
      "cell_type": "code",
      "metadata": {
        "id": "AkafC9v35GKe",
        "colab_type": "code",
        "colab": {}
      },
      "source": [
        "def pintar_numeros(predicted_classes, X_test, y_test,use_indices,cmap):\n",
        "  # Reducimos el tamaño para que quepan los subplots\n",
        "  plt.rcParams['figure.figsize'] = (8,8)\n",
        "  plt.style.use('dark_background')\n",
        "\n",
        "  figure_evaluation = plt.figure()\n",
        "\n",
        "  # pintar graficos\n",
        "  for i, use in enumerate(use_indices[:6]):\n",
        "      plt.subplot(3,3,i+1)\n",
        "      plt.imshow(X_test[use].reshape(28,28), cmap=cmap, interpolation='none')\n",
        "      plt.title(\n",
        "        \"Predicción: {}, Verdad: {}\".format(predicted_classes[use],\n",
        "                                          y_test[use]))\n",
        "      plt.xticks([])\n",
        "      plt.yticks([])\n",
        "      \n",
        "  figure_evaluation\n",
        "  \n",
        "  \n",
        "def pintar_predicciones(mnist_model,X_test,y_test):  \n",
        "  predicted_classes = mnist_model.predict_classes(X_test)\n",
        "  correct_indices = np.nonzero(predicted_classes == y_test)[0]\n",
        "  incorrect_indices = np.nonzero(predicted_classes != y_test)[0]\n",
        "  print()\n",
        "  print(len(correct_indices),\" bien clasificados\")\n",
        "  print(len(incorrect_indices),\" mal clasificados\")\n",
        "  \n",
        "  pintar_numeros(predicted_classes, X_test, y_test,correct_indices,'Greens')\n",
        "  pintar_numeros(predicted_classes, X_test, y_test,incorrect_indices,'Reds')"
      ],
      "execution_count": 0,
      "outputs": []
    },
    {
      "cell_type": "code",
      "metadata": {
        "id": "4Hf2xl6Z5KYq",
        "colab_type": "code",
        "outputId": "34364922-3f6c-4e0a-b8be-97e84e017b32",
        "colab": {
          "base_uri": "https://localhost:8080/",
          "height": 698
        }
      },
      "source": [
        "pintar_predicciones(mnist_model,X_test,y_test)"
      ],
      "execution_count": 24,
      "outputs": [
        {
          "output_type": "stream",
          "text": [
            "\n",
            "9835  bien clasificados\n",
            "165  mal clasificados\n"
          ],
          "name": "stdout"
        },
        {
          "output_type": "display_data",
          "data": {
            "image/png": "[encoded data removed]",
            "text/plain": [
              "<Figure size 576x576 with 6 Axes>"
            ]
          },
          "metadata": {
            "tags": []
          }
        },
        {
          "output_type": "display_data",
          "data": {
            "image/png": "[encoded data removed]",
            "text/plain": [
              "<Figure size 576x576 with 6 Axes>"
            ]
          },
          "metadata": {
            "tags": []
          }
        }
      ]
    }
  ]
}